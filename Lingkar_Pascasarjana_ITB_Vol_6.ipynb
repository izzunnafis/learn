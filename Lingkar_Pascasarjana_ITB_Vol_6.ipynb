{
  "nbformat": 4,
  "nbformat_minor": 0,
  "metadata": {
    "colab": {
      "provenance": [],
      "include_colab_link": true
    },
    "kernelspec": {
      "name": "python3",
      "display_name": "Python 3"
    },
    "language_info": {
      "name": "python"
    }
  },
  "cells": [
    {
      "cell_type": "markdown",
      "metadata": {
        "id": "view-in-github",
        "colab_type": "text"
      },
      "source": [
        "<a href=\"https://colab.research.google.com/github/izzunnafis/learn/blob/main/Lingkar_Pascasarjana_ITB_Vol_6.ipynb\" target=\"_parent\"><img src=\"https://colab.research.google.com/assets/colab-badge.svg\" alt=\"Open In Colab\"/></a>"
      ]
    },
    {
      "cell_type": "markdown",
      "source": [
        "# Regresi Linear\n",
        "---\n",
        "\n",
        "Problem Statement: Ask a home buyer to describe their dream house, and they probably won't begin with the height of the basement ceiling or the proximity to an east-west railroad. But this playground competition's dataset proves that much more influences price negotiations than the number of bedrooms or a white-picket fence.\n",
        "\n",
        "Dataset: https://www.kaggle.com/datasets/camnugent/california-housing-prices.\n",
        "\n",
        "Task: Gunakan regresi untuk memprediksi nilai *median_house_value*\n",
        "\n",
        "---"
      ],
      "metadata": {
        "id": "5tc_OKJz8D-F"
      }
    },
    {
      "cell_type": "markdown",
      "source": [
        "## A. Persiapan Environment\n",
        "1. (Opsi 1) File disimpan pada google drive\n",
        "- Menghubungkan google colab dengan google drive\n",
        "- Memindahkan direktori kerja ke folder tempat dataset tersimpan\n",
        "- Import python libraries yang digunakan\n",
        "- Load data sebagai python dataframe"
      ],
      "metadata": {
        "id": "UJqbPvi58HBK"
      }
    },
    {
      "cell_type": "code",
      "source": [
        "# Connect to drive\n"
      ],
      "metadata": {
        "id": "mu0d0cTqED-t"
      },
      "execution_count": null,
      "outputs": []
    },
    {
      "cell_type": "code",
      "source": [
        "# Move working directory to yours (hint: use terminal command)\n"
      ],
      "metadata": {
        "id": "36hYpASTEIp8"
      },
      "execution_count": null,
      "outputs": []
    },
    {
      "cell_type": "code",
      "source": [
        "# Import python libraries\n"
      ],
      "metadata": {
        "id": "52g43JldEOmB"
      },
      "execution_count": null,
      "outputs": []
    },
    {
      "cell_type": "code",
      "source": [
        "# Load dataset into pandas dataframe format (hint: use data structure from panda)\n"
      ],
      "metadata": {
        "id": "D1MO3bRKEacU"
      },
      "execution_count": null,
      "outputs": []
    },
    {
      "cell_type": "markdown",
      "source": [
        "2. (Opsi 2) File langsung diupload\n",
        "- Mengupload file\n",
        "- Load data sebagai python dataframe"
      ],
      "metadata": {
        "id": "Q4XtBFk9EkGB"
      }
    },
    {
      "cell_type": "code",
      "source": [
        "# Upload file directly\n"
      ],
      "metadata": {
        "id": "ZlyWLlWiEpzQ"
      },
      "execution_count": null,
      "outputs": []
    },
    {
      "cell_type": "code",
      "source": [
        "# Load dataset into pandas dataframe format (hint: use data structure from panda)\n"
      ],
      "metadata": {
        "id": "uZrlBz_mFHUK"
      },
      "execution_count": null,
      "outputs": []
    },
    {
      "cell_type": "markdown",
      "source": [
        "3. Cek dataframe"
      ],
      "metadata": {
        "id": "hxixFC1xFQVs"
      }
    },
    {
      "cell_type": "code",
      "source": [
        "# Call the previously created dataframe\n"
      ],
      "metadata": {
        "id": "X3ASEScwFVIb"
      },
      "execution_count": null,
      "outputs": []
    },
    {
      "cell_type": "markdown",
      "source": [
        "## B. Analisa dan Eksplorasi Data\n",
        "1. Rangkuman umum dataset\n",
        "2. Rangkuman statistik data\n",
        "3. Visualisasi data"
      ],
      "metadata": {
        "id": "nZ7xvQt5AcQJ"
      }
    },
    {
      "cell_type": "code",
      "source": [
        "# Dataset summary\n"
      ],
      "metadata": {
        "id": "Qxdal8ZcFZa1"
      },
      "execution_count": null,
      "outputs": []
    },
    {
      "cell_type": "code",
      "source": [
        "# Dataset statistic summary\n"
      ],
      "metadata": {
        "id": "5GxBVeMAFZ_b"
      },
      "execution_count": null,
      "outputs": []
    },
    {
      "cell_type": "code",
      "source": [
        "# Data Visualization\n"
      ],
      "metadata": {
        "id": "juq65JwGFamn"
      },
      "execution_count": null,
      "outputs": []
    },
    {
      "cell_type": "markdown",
      "source": [
        "## C. Data Preparation\n",
        "1. Pembersihan Null value\n",
        "2. Pembagian data menjadi data latih, validasi, dan uji"
      ],
      "metadata": {
        "id": "9hxpL-04BW8n"
      }
    },
    {
      "cell_type": "code",
      "source": [
        "# Null cleaning\n"
      ],
      "metadata": {
        "id": "ZfMFXNJlH1_N"
      },
      "execution_count": null,
      "outputs": []
    },
    {
      "cell_type": "code",
      "source": [
        "# Check new cleaned dataframe\n"
      ],
      "metadata": {
        "id": "QbTNm-HUH4TR"
      },
      "execution_count": null,
      "outputs": []
    },
    {
      "cell_type": "code",
      "source": [
        "# Split data to train, validation, and test set\n"
      ],
      "metadata": {
        "id": "wgABNB5bH7_g"
      },
      "execution_count": null,
      "outputs": []
    },
    {
      "cell_type": "code",
      "source": [
        "# Print the result\n"
      ],
      "metadata": {
        "id": "RyZce6_gIEs1"
      },
      "execution_count": null,
      "outputs": []
    },
    {
      "cell_type": "markdown",
      "source": [
        "## D. Kasus Regresi *Single Variable*\n",
        "\n",
        "---\n",
        "\n",
        "Pada regresi *single variable*, output 𝒚 diperoleh dari hasil perkalian antara nilai bobot $w$ dan satu variabel masukan $x$ serta nilai bias $b$. Atau dapat pula dinyatakan dengan\n",
        "\n",
        "$y = xw + b$\n",
        "\n",
        "Nilai $y$ adalah nilai dari *median_house_value* sementara masukan $x$ akan ditentukan berdasar proses analisis. Nilai bobot $w$ akan ditentukan dengan proses pelatihan menggunakan data latih. Algoritma *gradient_descent* digunakan dalam proses pelatihan ini. Untuk itu, pada bagian ini, tahapan-tahapan yang dilakukan adalah:\n",
        "1. Analisis dan pemilihan variabel masukan\n",
        "2. Normalisasi data\n",
        "3. Proses pelatihan dengan data latih\n",
        "4. Proses pengujian dengan data uji"
      ],
      "metadata": {
        "id": "FT9iiPwlB7Li"
      }
    },
    {
      "cell_type": "markdown",
      "source": [
        "### 1. Analisis dan Pemilihan Variabel Masukan\n",
        "\n",
        "Analisis dilakukan dengan memperhatikan korelasi antara kandidat variabel masukan dengan variabel *median_house_value*. Nilai korelasi ini cukup penting mengingat model prediksi yang digunakan adalah regresi linear. Semakin baik korelasi antara dua data, maka hasil yang diperoleh dengan metode regresi linear juga akan semakin baik."
      ],
      "metadata": {
        "id": "TU9cptruCeii"
      }
    },
    {
      "cell_type": "code",
      "source": [
        "# Variable correlation evaluation (graph)\n"
      ],
      "metadata": {
        "id": "AZXFMz8xIL_Q"
      },
      "execution_count": null,
      "outputs": []
    },
    {
      "cell_type": "code",
      "source": [
        "# Variable correlation evaluation (numeric)\n"
      ],
      "metadata": {
        "id": "_y9ZaVXSIV8B"
      },
      "execution_count": null,
      "outputs": []
    },
    {
      "cell_type": "markdown",
      "source": [
        "Variabel yang memiliki korelasi yang baik adalah ..."
      ],
      "metadata": {
        "id": "lVWeh6drCzzy"
      }
    },
    {
      "cell_type": "code",
      "source": [
        "# Copy variable with the best correlation\n"
      ],
      "metadata": {
        "id": "BI1l4CfCJcp8"
      },
      "execution_count": null,
      "outputs": []
    },
    {
      "cell_type": "code",
      "source": [
        "# Visualize them\n"
      ],
      "metadata": {
        "id": "-Fj-a-lTJoHI"
      },
      "execution_count": null,
      "outputs": []
    },
    {
      "cell_type": "markdown",
      "source": [
        "### 2. Normalisasi Data\n",
        "\n",
        "Pada proses normalisasi data ini, nilai data masukan diolah sedemikian sehingga memiliki nilai rataan pada 0 dan standar deviasi pada 1. Dengan demikian didapat nilai dari rataan $\\mu$ dan *standard deviation* $\\sigma$ dari variabel masukan $x$ sedemikian sehingga $\\frac{(x-\\mu)}{\\sigma}$ memiliki rataan pada 0 dan standar deviasi pada 1.\n",
        "\n",
        "Sementara itu data output juga diperlakukan dengan perlakuan yang sama dengan nilai rataan $\\mu_y$ dan *standard deviation* $\\sigma_y$"
      ],
      "metadata": {
        "id": "9lD_hklGC9Ai"
      }
    },
    {
      "cell_type": "code",
      "source": [
        "# Check the statistical summary of the isolated dataframe\n"
      ],
      "metadata": {
        "id": "QNCOn4t0JrhS"
      },
      "execution_count": null,
      "outputs": []
    },
    {
      "cell_type": "code",
      "source": [
        "# Get the mean and standard deviation value\n"
      ],
      "metadata": {
        "id": "w6pL2qyhJ4l3"
      },
      "execution_count": null,
      "outputs": []
    },
    {
      "cell_type": "code",
      "source": [
        "# Normalize the data\n"
      ],
      "metadata": {
        "id": "I2zZyr4ZJ7o5"
      },
      "execution_count": null,
      "outputs": []
    },
    {
      "cell_type": "code",
      "source": [
        "# Show the mean and standar deviation value of normalized data\n"
      ],
      "metadata": {
        "id": "v9rigEsVJ8LJ"
      },
      "execution_count": null,
      "outputs": []
    },
    {
      "cell_type": "markdown",
      "source": [
        "### 3. Training Model"
      ],
      "metadata": {
        "id": "566ZgDm0DJj0"
      }
    },
    {
      "cell_type": "markdown",
      "source": [
        "- **Rumus penting:** <br>\n",
        "\n",
        "a. *Loss Function*\n",
        "\n",
        "Digunakan *mean squared error* yang dapat dinyatakan dengan persamaan\n",
        "\n",
        "$F = \\frac{1}{n} Σ_n (y_{pred}-y_{actual})^2 $"
      ],
      "metadata": {
        "id": "v_rqOQYHDgwp"
      }
    },
    {
      "cell_type": "code",
      "source": [
        "def mse_loss(y_pred, y_actual):\n",
        "  return ((y_pred-y_actual)**2).mean()"
      ],
      "metadata": {
        "id": "_zYO5OqtJ_PR"
      },
      "execution_count": null,
      "outputs": []
    },
    {
      "cell_type": "markdown",
      "source": [
        "b. *Forward Propagation*\n",
        "\n",
        "$y = \\bar{x}\\bar{w} + b$\n",
        "\n",
        "Untuk kasus *single variable* diperoleh\n",
        "\n",
        "$y = x_1w_1 +  b$\n",
        "\n",
        "Sedangkan untuk kasus *multi varieble* diperoleh\n",
        "\n",
        "$y = x_1w_1 + x_2w_2 +...+ x_nw_n + b$\n",
        "\n",
        "Definisi fungsi berikut dapat digunakan untuk kasus *single variable* maupun *multi variable*"
      ],
      "metadata": {
        "id": "z9ZZFmlfDmlT"
      }
    },
    {
      "cell_type": "code",
      "source": [
        "def forward_pass(x_data, w_data, b_data):\n",
        "  return np.dot(x_data, w_data) + b_data"
      ],
      "metadata": {
        "id": "nybQrGSTKDUc"
      },
      "execution_count": null,
      "outputs": []
    },
    {
      "cell_type": "markdown",
      "source": [
        "c. *Backward Propagation*\n",
        "\n",
        "Sesuai dengan algoritma *gradient descent*, untuk memperbaharui nilai bobot $w_i$, dimiliki persamaan\n",
        "\n",
        "$w_i[k+1] = w_i[k]-a\\frac{\\partial{F}}{\\partial{w_i}}$\n",
        "\n",
        "diperoleh\n",
        "\n",
        "$w_i[k+1] = w_i[k]-2a\\times (y_{pred}-y_{actual})\\times x_i$\n",
        "\n",
        "dengan $a$ adalah nilai *learning rate*. Diperoleh pula\n",
        "\n",
        "$b[k+1] = b[k]-2a\\times (y_{pred}-y_{actual})$"
      ],
      "metadata": {
        "id": "hu2kZmAXDo1K"
      }
    },
    {
      "cell_type": "code",
      "source": [
        "def backward_pass(w_data, x_data, b_data, a, y_pred, y_actual):\n",
        "  multiplier = 2*a*(y_pred-y_actual)\n",
        "  return w_data - np.dot(multiplier, x_data), b_data - multiplier.sum()"
      ],
      "metadata": {
        "id": "5lKONXFoKECv"
      },
      "execution_count": null,
      "outputs": []
    },
    {
      "cell_type": "markdown",
      "source": [
        "- Proses training\n",
        "Algoritma *gradient descent* diterapkan dan diiterasi sebanyak 100 kali. *Learning rate* ditetapkan bernilai 0.000001. Nilai bobot dan awal ditetapkan seragam dengan nilai 0.0"
      ],
      "metadata": {
        "id": "kY7QOAQqKMzX"
      }
    },
    {
      "cell_type": "code",
      "source": [
        "# Parameter and initialization\n",
        "\n",
        "# Convert data into matrix\n",
        "\n",
        "# Start gradient descent\n",
        "\n",
        "# Get the latest coefficient value\n",
        "\n",
        "# Plotting\n"
      ],
      "metadata": {
        "id": "ksegkGO5KpR1"
      },
      "execution_count": null,
      "outputs": []
    },
    {
      "cell_type": "code",
      "source": [
        "# Print last error val"
      ],
      "metadata": {
        "id": "JPkfenYyK0xp"
      },
      "execution_count": null,
      "outputs": []
    },
    {
      "cell_type": "markdown",
      "source": [
        "### 4. Pengujian dan Evaluasi\n",
        "\n",
        "Karena terdapat tahapan normalisasi pada data latih. Maka pada proses pengujian, perlu dilakukan beberapa penyesuaian yaitu:\n",
        "\n",
        "1. Data input pengujian harus dinormalisasi dengan nilai *mean* dan *standard deviation* yang diperoleh pada data latih\n",
        "2. Data output hasil prediksi harus dikali dan ditambah secara berturut-turut dengan nilai $\\sigma_y$ dan $\\mu_y$ yang diperoleh saat pelatihan"
      ],
      "metadata": {
        "id": "YiM3QzafDqj-"
      }
    },
    {
      "cell_type": "markdown",
      "source": [
        "- Persiapan variabel input data uji"
      ],
      "metadata": {
        "id": "Vb6vyWmrK9wk"
      }
    },
    {
      "cell_type": "code",
      "execution_count": null,
      "metadata": {
        "id": "4dphZx6T78We"
      },
      "outputs": [],
      "source": [
        "# Get the latitude_longitude variable\n",
        "\n",
        "# Normalize the input data"
      ]
    },
    {
      "cell_type": "markdown",
      "source": [
        "- Prediksi nilai output\n",
        "Dengan menggunakan bobot dan bias yang diperoleh saat pelatihan, dengan menggunakan regresi *single variable* diperoleh hasil prediksi dari data uji\n",
        "\n",
        "Data output hasil prediksi harus dikali dan ditambah secara berturut-turut dengan nilai $\\sigma_y$ dan $\\mu_y$ karena saat proses pelatihan, telah dilakukan proses normalisasi terhadap nilai $y_{actual}$"
      ],
      "metadata": {
        "id": "KFpWgt9KLBWr"
      }
    },
    {
      "cell_type": "code",
      "source": [
        "# Get the test data\n",
        "\n",
        "# Get the output\n",
        "\n",
        "# Multiply the output with the standard deviation and then add it with the mean\n"
      ],
      "metadata": {
        "id": "YLgdA1ioLEh9"
      },
      "execution_count": null,
      "outputs": []
    },
    {
      "cell_type": "markdown",
      "source": [
        "- Hasil dari data uji\n",
        "Berikut hasil plot yang membandingkan hasil prediksi dan nilai actual dari beberapa sampel data uji."
      ],
      "metadata": {
        "id": "ulxyuwL3LQp4"
      }
    },
    {
      "cell_type": "code",
      "source": [
        "# Plot the result of some sample data\n"
      ],
      "metadata": {
        "id": "HyGISieWLW-M"
      },
      "execution_count": null,
      "outputs": []
    },
    {
      "cell_type": "code",
      "source": [
        "# Loss value\n"
      ],
      "metadata": {
        "id": "16WmIV7tLaD2"
      },
      "execution_count": null,
      "outputs": []
    }
  ]
}